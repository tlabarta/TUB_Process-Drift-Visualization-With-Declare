{
 "cells": [
  {
   "cell_type": "code",
   "execution_count": 2,
   "metadata": {
    "pycharm": {
     "name": "#%%\n"
    }
   },
   "outputs": [],
   "source": [
    "import pm4py\n",
    "import pandas as pd\n",
    "import csv\n",
    "import numpy as np\n",
    "import matplotlib.pyplot as plt\n",
    "from pm4py.objects.conversion.log import converter as log_converter\n",
    "from pm4py.statistics.traces.generic.pandas import case_statistics"
   ]
  },
  {
   "cell_type": "code",
   "execution_count": 3,
   "metadata": {
    "pycharm": {
     "name": "#%%\n"
    }
   },
   "outputs": [
    {
     "data": {
      "application/vnd.jupyter.widget-view+json": {
       "model_id": "5de192f0e2fc4351a08be97c26fb4b85",
       "version_major": 2,
       "version_minor": 0
      },
      "text/plain": [
       "parsing log, completed traces ::   0%|          | 0/13 [00:00<?, ?it/s]"
      ]
     },
     "metadata": {},
     "output_type": "display_data"
    }
   ],
   "source": [
    "log = pm4py.read_xes('../data/data_input/Forsage/top.xes')\n",
    "df_log = log_converter.apply(log, variant=log_converter.Variants.TO_DATA_FRAME)\n",
    "df_log = df_log = pm4py.objects.log.util.dataframe_utils.convert_timestamp_columns_in_df(df_log)\n",
    "df_log = df_log.sort_values('time:timestamp')"
   ]
  },
  {
   "cell_type": "markdown",
   "metadata": {
    "pycharm": {
     "name": "#%%\n"
    }
   },
   "source": [
    "# 1.1  Attributes of the log"
   ]
  },
  {
   "cell_type": "code",
   "execution_count": 9,
   "metadata": {
    "pycharm": {
     "name": "#%%\n"
    }
   },
   "outputs": [
    {
     "name": "stdout",
     "output_type": "stream",
     "text": [
      "Event attributes: \n"
     ]
    },
    {
     "data": {
      "text/plain": [
       "['Unnamed: 0',\n",
       " 'blockNumber',\n",
       " 'transactionIndex',\n",
       " 'logIndex',\n",
       " 'referrer',\n",
       " 'concept:name',\n",
       " 'level',\n",
       " 'ident:eid',\n",
       " 'place',\n",
       " 'time:timestamp',\n",
       " 'userId',\n",
       " 'referred',\n",
       " 'user',\n",
       " 'caller',\n",
       " 'currentReferrer',\n",
       " 'from',\n",
       " 'case:concept:name',\n",
       " 'case:ident:piid']"
      ]
     },
     "execution_count": 9,
     "metadata": {},
     "output_type": "execute_result"
    }
   ],
   "source": [
    "event_attributes = pm4py.get_event_attributes(df_log)\n",
    "print(\"Event attributes: \")\n",
    "event_attributes"
   ]
  },
  {
   "cell_type": "markdown",
   "metadata": {},
   "source": [
    "## 1.2 Activity types and frequencies"
   ]
  },
  {
   "cell_type": "code",
   "execution_count": 4,
   "metadata": {},
   "outputs": [
    {
     "name": "stdout",
     "output_type": "stream",
     "text": [
      "Activity types and their frequencies: \n",
      "Number of different activites: 12\n"
     ]
    },
    {
     "data": {
      "text/plain": [
       "Text(0, 0.5, 'Activities')"
      ]
     },
     "execution_count": 4,
     "metadata": {},
     "output_type": "execute_result"
    },
    {
     "data": {
      "image/png": "[encoded data removed]",
      "text/plain": [
       "<Figure size 432x288 with 1 Axes>"
      ]
     },
     "metadata": {
      "needs_background": "light"
     },
     "output_type": "display_data"
    }
   ],
   "source": [
    "# extract all event types (i.e. activites) and their total frequencies\n",
    "event_attribute_values = pm4py.get_event_attribute_values(df_log, attribute=\"concept:name\")\n",
    "print(\"Activity types and their frequencies: \")\n",
    "event_attribute_values\n",
    "\n",
    "# Number of activities\n",
    "n_activities = len(event_attribute_values)\n",
    "print(\"Number of different activites: \" + str(n_activities))\n",
    "\n",
    "import matplotlib.pyplot as plt\n",
    "\n",
    "# Plot the event occurrence\n",
    "# Sort dictionary containing the activity counts\n",
    "event_attribute_values = dict(sorted(event_attribute_values.items(), key=lambda item: item[1]))\n",
    "\n",
    "keys = list(event_attribute_values.keys())\n",
    "values = list(event_attribute_values.values())\n",
    "\n",
    "for i in range(len(values)):\n",
    "    plt.annotate(str(values[i]), xy=(values[i],keys[i]))\n",
    "\n",
    "# Visual impression\n",
    "plt.barh(keys, values)\n",
    "plt.xlabel(\"Occurrences\")\n",
    "plt.ylabel(\"Activities\")"
   ]
  },
  {
   "cell_type": "markdown",
   "metadata": {},
   "source": [
    "## 1.3 Number of traces"
   ]
  },
  {
   "cell_type": "code",
   "execution_count": 13,
   "metadata": {},
   "outputs": [
    {
     "name": "stdout",
     "output_type": "stream",
     "text": [
      "Number of traces: 13\n"
     ]
    }
   ],
   "source": [
    "# Number of traces, users (is  equivalent in this context)\n",
    "n_traces = len(log)\n",
    "\n",
    "print(\"Number of traces: \" + str(n_traces))"
   ]
  },
  {
   "cell_type": "markdown",
   "metadata": {},
   "source": [
    "## 1.4 Number of variants"
   ]
  },
  {
   "cell_type": "code",
   "execution_count": 33,
   "metadata": {},
   "outputs": [
    {
     "name": "stdout",
     "output_type": "stream",
     "text": [
      "Number of variants:\n"
     ]
    },
    {
     "data": {
      "text/plain": [
       "13"
      ]
     },
     "execution_count": 33,
     "metadata": {},
     "output_type": "execute_result"
    }
   ],
   "source": [
    "df_traces = df_log.groupby(by=\"case:ident:piid\")[\"concept:name\"].apply(lambda x: str(list(x))).to_frame()\n",
    "\n",
    "variants_count = case_statistics.get_variant_statistics(df_log,\n",
    "                                          parameters={case_statistics.Parameters.CASE_ID_KEY: \"case:ident:piid\",\n",
    "                                                      case_statistics.Parameters.ACTIVITY_KEY: \"concept:name\",\n",
    "                                                      case_statistics.Parameters.TIMESTAMP_KEY: \"time:timestamp\"})\n",
    "variants_count = pd.DataFrame(sorted(variants_count, key=lambda x: x['case:ident:piid'], reverse=True))\n",
    "variants_count\n",
    "\n",
    "print(\"Number of variants:\")\n",
    "df_traces[\"concept:name\"].nunique()"
   ]
  },
  {
   "cell_type": "markdown",
   "metadata": {},
   "source": [
    "## 1.5 Cumulative traffic over time"
   ]
  },
  {
   "cell_type": "code",
   "execution_count": null,
   "metadata": {},
   "outputs": [],
   "source": [
    "df_timestamp = df_log[[\"time:timestamp\", \"case:ident:piid\"]]\n",
    "df_time = df_log[\"time:timestamp\"]\n",
    "df_timestamp[\"Activity Count\"] = 1\n",
    "df_timestamp.set_index('time:timestamp', inplace=True)\n",
    "df_timestamp.sort_index(inplace=True)\n",
    "df_timestamp = df_timestamp.cumsum()\n",
    "\n",
    "plt.plot(df_time, df_timestamp[\"Activity Count\"], label = 'All')\n",
    "\n",
    "for i in df_log[\"case:ident:piid\"].unique():\n",
    "    plt.plot(df_time, df_timestamp[[df_timestamp[\"case:ident:piid\"]== i],[\"Activity Count\"]], label = i)\n",
    "    \n",
    "\n",
    "plt.show()"
   ]
  },
  {
   "cell_type": "code",
   "execution_count": 8,
   "metadata": {},
   "outputs": [
    {
     "data": {
      "text/html": [
       "<div>\n",
       "<style scoped>\n",
       "    .dataframe tbody tr th:only-of-type {\n",
       "        vertical-align: middle;\n",
       "    }\n",
       "\n",
       "    .dataframe tbody tr th {\n",
       "        vertical-align: top;\n",
       "    }\n",
       "\n",
       "    .dataframe thead th {\n",
       "        text-align: right;\n",
       "    }\n",
       "</style>\n",
       "<table border=\"1\" class=\"dataframe\">\n",
       "  <thead>\n",
       "    <tr style=\"text-align: right;\">\n",
       "      <th></th>\n",
       "      <th>case:ident:piid</th>\n",
       "      <th>Activity Count</th>\n",
       "    </tr>\n",
       "    <tr>\n",
       "      <th>time:timestamp</th>\n",
       "      <th></th>\n",
       "      <th></th>\n",
       "    </tr>\n",
       "  </thead>\n",
       "  <tbody>\n",
       "    <tr>\n",
       "      <th>2020-01-31 22:38:31+01:00</th>\n",
       "      <td>0x4aaa7083535965d1cdd44d1407dcb11eec3f576d</td>\n",
       "      <td>1</td>\n",
       "    </tr>\n",
       "    <tr>\n",
       "      <th>2020-01-31 22:38:31+01:00</th>\n",
       "      <td>0x4aaa7083535965d1cdd44d1407dcb11eec3f576d0x4a...</td>\n",
       "      <td>2</td>\n",
       "    </tr>\n",
       "    <tr>\n",
       "      <th>2020-01-31 22:38:31+01:00</th>\n",
       "      <td>0x4aaa7083535965d1cdd44d1407dcb11eec3f576d0x4a...</td>\n",
       "      <td>3</td>\n",
       "    </tr>\n",
       "    <tr>\n",
       "      <th>2020-01-31 22:38:31+01:00</th>\n",
       "      <td>0x4aaa7083535965d1cdd44d1407dcb11eec3f576d0x4a...</td>\n",
       "      <td>4</td>\n",
       "    </tr>\n",
       "    <tr>\n",
       "      <th>2020-01-31 23:18:04+01:00</th>\n",
       "      <td>0x4aaa7083535965d1cdd44d1407dcb11eec3f576d0x4a...</td>\n",
       "      <td>5</td>\n",
       "    </tr>\n",
       "    <tr>\n",
       "      <th>...</th>\n",
       "      <td>...</td>\n",
       "      <td>...</td>\n",
       "    </tr>\n",
       "    <tr>\n",
       "      <th>2021-03-18 16:31:08+01:00</th>\n",
       "      <td>0x4aaa7083535965d1cdd44d1407dcb11eec3f576d0x4a...</td>\n",
       "      <td>34063</td>\n",
       "    </tr>\n",
       "    <tr>\n",
       "      <th>2021-03-18 16:31:08+01:00</th>\n",
       "      <td>0x4aaa7083535965d1cdd44d1407dcb11eec3f576d0x4a...</td>\n",
       "      <td>34064</td>\n",
       "    </tr>\n",
       "    <tr>\n",
       "      <th>2021-04-05 14:18:37+01:00</th>\n",
       "      <td>0x4aaa7083535965d1cdd44d1407dcb11eec3f576d0x4a...</td>\n",
       "      <td>34065</td>\n",
       "    </tr>\n",
       "    <tr>\n",
       "      <th>2021-04-05 14:18:37+01:00</th>\n",
       "      <td>0x4aaa7083535965d1cdd44d1407dcb11eec3f576d0x4a...</td>\n",
       "      <td>34066</td>\n",
       "    </tr>\n",
       "    <tr>\n",
       "      <th>2021-04-05 14:18:37+01:00</th>\n",
       "      <td>0x4aaa7083535965d1cdd44d1407dcb11eec3f576d0x4a...</td>\n",
       "      <td>34067</td>\n",
       "    </tr>\n",
       "  </tbody>\n",
       "</table>\n",
       "<p>34067 rows × 2 columns</p>\n",
       "</div>"
      ],
      "text/plain": [
       "                                                             case:ident:piid  \\\n",
       "time:timestamp                                                                 \n",
       "2020-01-31 22:38:31+01:00         0x4aaa7083535965d1cdd44d1407dcb11eec3f576d   \n",
       "2020-01-31 22:38:31+01:00  0x4aaa7083535965d1cdd44d1407dcb11eec3f576d0x4a...   \n",
       "2020-01-31 22:38:31+01:00  0x4aaa7083535965d1cdd44d1407dcb11eec3f576d0x4a...   \n",
       "2020-01-31 22:38:31+01:00  0x4aaa7083535965d1cdd44d1407dcb11eec3f576d0x4a...   \n",
       "2020-01-31 23:18:04+01:00  0x4aaa7083535965d1cdd44d1407dcb11eec3f576d0x4a...   \n",
       "...                                                                      ...   \n",
       "2021-03-18 16:31:08+01:00  0x4aaa7083535965d1cdd44d1407dcb11eec3f576d0x4a...   \n",
       "2021-03-18 16:31:08+01:00  0x4aaa7083535965d1cdd44d1407dcb11eec3f576d0x4a...   \n",
       "2021-04-05 14:18:37+01:00  0x4aaa7083535965d1cdd44d1407dcb11eec3f576d0x4a...   \n",
       "2021-04-05 14:18:37+01:00  0x4aaa7083535965d1cdd44d1407dcb11eec3f576d0x4a...   \n",
       "2021-04-05 14:18:37+01:00  0x4aaa7083535965d1cdd44d1407dcb11eec3f576d0x4a...   \n",
       "\n",
       "                           Activity Count  \n",
       "time:timestamp                             \n",
       "2020-01-31 22:38:31+01:00               1  \n",
       "2020-01-31 22:38:31+01:00               2  \n",
       "2020-01-31 22:38:31+01:00               3  \n",
       "2020-01-31 22:38:31+01:00               4  \n",
       "2020-01-31 23:18:04+01:00               5  \n",
       "...                                   ...  \n",
       "2021-03-18 16:31:08+01:00           34063  \n",
       "2021-03-18 16:31:08+01:00           34064  \n",
       "2021-04-05 14:18:37+01:00           34065  \n",
       "2021-04-05 14:18:37+01:00           34066  \n",
       "2021-04-05 14:18:37+01:00           34067  \n",
       "\n",
       "[34067 rows x 2 columns]"
      ]
     },
     "execution_count": 8,
     "metadata": {},
     "output_type": "execute_result"
    }
   ],
   "source": [
    "df_timestamp.cumsum()"
   ]
  },
  {
   "cell_type": "markdown",
   "metadata": {},
   "source": [
    "# 2. Attribute analysis\n",
    "\n",
    "## 2.1 Which attributes exist for which activity?"
   ]
  },
  {
   "cell_type": "code",
   "execution_count": null,
   "metadata": {},
   "outputs": [],
   "source": []
  }
 ],
 "metadata": {
  "kernelspec": {
   "display_name": "Python 3 (ipykernel)",
   "language": "python",
   "name": "python3"
  },
  "language_info": {
   "codemirror_mode": {
    "name": "ipython",
    "version": 3
   },
   "file_extension": ".py",
   "mimetype": "text/x-python",
   "name": "python",
   "nbconvert_exporter": "python",
   "pygments_lexer": "ipython3",
   "version": "3.10.4"
  }
 },
 "nbformat": 4,
 "nbformat_minor": 1
}
